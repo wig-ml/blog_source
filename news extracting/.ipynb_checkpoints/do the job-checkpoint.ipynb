{
 "cells": [
  {
   "cell_type": "code",
   "execution_count": 18,
   "metadata": {
    "collapsed": true
   },
   "outputs": [],
   "source": [
    "import numpy as np\n",
    "import pandas as pd\n",
    "import os, json, operator\n",
    "from bs4 import BeautifulSoup as BS\n",
    "import matplotlib.pyplot as plt\n",
    "from datetime import datetime, timedelta\n"
   ]
  },
  {
   "cell_type": "code",
   "execution_count": 8,
   "metadata": {
    "collapsed": false
   },
   "outputs": [],
   "source": [
    "base = os.path.dirname(os.getcwd())"
   ]
  },
  {
   "cell_type": "code",
   "execution_count": 9,
   "metadata": {
    "collapsed": true
   },
   "outputs": [],
   "source": [
    "news_loc = os.path.join(base, 'news')\n",
    "news_dump = os.path.join(base, 'news extracting')"
   ]
  },
  {
   "cell_type": "code",
   "execution_count": 10,
   "metadata": {
    "collapsed": true
   },
   "outputs": [],
   "source": [
    "companies = os.listdir(news_loc)"
   ]
  },
  {
   "cell_type": "code",
   "execution_count": 21,
   "metadata": {
    "collapsed": false
   },
   "outputs": [
    {
     "data": {
      "text/plain": [
       "datetime.datetime(2001, 1, 1, 0, 0)"
      ]
     },
     "execution_count": 21,
     "metadata": {},
     "output_type": "execute_result"
    }
   ],
   "source": [
    "datetime(year=2001, month=1, day=1)"
   ]
  },
  {
   "cell_type": "code",
   "execution_count": 17,
   "metadata": {
    "collapsed": false
   },
   "outputs": [
    {
     "name": "stdout",
     "output_type": "stream",
     "text": [
      "checking for missed years\n",
      "[2001, 2002, 2003, 2004, 2005, 2006, 2007, 2008, 2009, 2010, 2011, 2012, 2013, 2014, 2015, 2016]\n"
     ]
    }
   ],
   "source": [
    "for comp in companies[:1]:\n",
    "    \n",
    "    l = os.path.join(news_loc, comp)\n",
    "    a = []\n",
    "    for file in os.listdir(l):\n",
    "        if file == 'changes.txt':\n",
    "            continue\n",
    "        o = open(os.path.join(l,file), 'r').read()\n",
    "        try:\n",
    "            soup = BS(o, 'html.parser').title.string.lower()\n",
    "            if 'termin' in soup:\n",
    "                a.append( (file.split(' ')[0], soup, file) )\n",
    "                \n",
    "        except:\n",
    "            print(file)\n",
    "            continue\n",
    "        \n",
    "        \n",
    "    a = sorted(a, key=operator.itemgetter(0))\n",
    "    years = sorted(list(set([int(x[0].split('-')[0]) for x in a])))\n",
    "    K = 0\n",
    "    for year in years:\n",
    "        d = datetime(year=year,month=1,day=1)\n",
    "        \n",
    "    \n",
    "    print('checking for missed years')\n",
    "    diffs = np.diff([int(x[0].split('-')[0]) for x in a])\n",
    "    if 2 in diffs:\n",
    "        mi, ma = min(years), max(years)\n",
    "        missed = []\n",
    "        for y in range(len(years)):\n",
    "            if mi + y not in years:\n",
    "                missed.append(mi+y)\n",
    "        print('missed:',  missed)"
   ]
  },
  {
   "cell_type": "code",
   "execution_count": 14,
   "metadata": {
    "collapsed": false,
    "scrolled": false
   },
   "outputs": [
    {
     "data": {
      "text/plain": [
       "[('2001-01-12', 'forte sa terminy raportów okresowych'),\n",
       " ('2001-04-27',\n",
       "  'forte sa zmiana terminu przekazania raportu rocznego za 2000r.'),\n",
       " ('2001-05-17',\n",
       "  'forte sa nowe terminy raportów kwartalnych skonsolidowanych w 2001  r.\\n'),\n",
       " ('2002-01-24',\n",
       "  'forte sa terminy przekazywania raportów okresowych w 2002 roku'),\n",
       " ('2002-02-04',\n",
       "  'forte sa zmiana terminu przekazania raportu za iv kwartał 2001r.'),\n",
       " ('2002-02-12',\n",
       "  'forte sa zmiana terminu skonsolidowanego raportu kwartalnego'),\n",
       " ('2002-04-18', 'forte sa zmiana terminu przekazania raportów okresowych'),\n",
       " ('2002-05-13',\n",
       "  'forte sa zmiana terminu przekazania raportu rocznego  skonsolidowanego\\n'),\n",
       " ('2002-07-16', 'forte sa zmiana terminu przekazania raportu kwartalnego'),\n",
       " ('2002-09-20', 'forte sa zmiana terminu przekazania raportu półrocznego'),\n",
       " ('2003-01-29', 'forte sa terminy przekazywania raportów w 2003 roku.'),\n",
       " ('2003-02-07', 'forte sa zmiana terminu przekazania raportu kwartalnego'),\n",
       " ('2003-04-25', 'forte sa zmiana terminu przekazania raportów okresowych'),\n",
       " ('2003-05-21', 'forte sa termin i porządek obrad zwz'),\n",
       " ('2003-08-07',\n",
       "  'forte sa zmiana terminu przekazania skonsolidowanego raportu za ii'),\n",
       " ('2003-11-06',\n",
       "  'forte sa zmiana terminu przekazania raportu za iii kwartał 2003 r.'),\n",
       " ('2004-01-30', 'forte sa terminy przekazywania raportów w 2004 roku'),\n",
       " ('2004-03-16', 'forte sa skrócenie terminów oferty'),\n",
       " ('2005-01-31',\n",
       "  'forte sa terminy przekazywania raportów okresowych w 2005 roku'),\n",
       " ('2005-04-27',\n",
       "  'fabryki mebli forte sa zmiana terminu przekazania raportów rocznych za 2004 rok'),\n",
       " ('2005-09-12',\n",
       "  'forte sa zmiana terminu przekazania raportów okresowych za i półrocze 2005 roku'),\n",
       " ('2005-10-27',\n",
       "  'fabryki mebli forte sa zmiana terminu przekazania raportów okresowych.'),\n",
       " ('2006-01-17',\n",
       "  'fabryki mebli forte sa terminy przekazywania raportów okresowych w 2006 roku.'),\n",
       " ('2006-02-24',\n",
       "  'forte sa zmian terminu przekazania raportu okresowego za iv kwartał 2005 r.'),\n",
       " ('2006-04-28', 'forte sa zmian terminu przekazania raportów okresowych'),\n",
       " ('2006-08-09',\n",
       "  'forte sa zmiana terminu przekazania raportu okresowego za ii kwartał 2006'),\n",
       " ('2006-10-20',\n",
       "  'forte sa zmiana terminu przekazania raportu okresowego za iii kwartał 2006 r.'),\n",
       " ('2007-01-26',\n",
       "  'forte sa terminy przekazywania raportów okresowych w 2007 r.'),\n",
       " ('2008-01-28',\n",
       "  'forte sa terminy przekazywania raportów okresowych w 2008 roku'),\n",
       " ('2009-01-14',\n",
       "  'forte sa terminy przekazywania raportów okresowych w 2009 roku'),\n",
       " ('2009-03-24',\n",
       "  'fabryki mebli forte sa terminy przekazywania raportów okresowych'),\n",
       " ('2010-01-08',\n",
       "  'fabryki mebli forte sa terminy przekazywania raportów okresowych w 2010 r.'),\n",
       " ('2010-01-12',\n",
       "  'forte sa korekta raportu dotyczącego terminów raportów okresowych'),\n",
       " ('2011-01-20',\n",
       "  'fabryki mebli forte sa terminy przekazywania raportów okresowych w 2011 roku'),\n",
       " ('2012-01-19',\n",
       "  'forte sa terminy przekazywania raportów okresowych w 2012 r.'),\n",
       " ('2013-01-31',\n",
       "  'fabryki mebli forte sa terminy przekazywania raportów okresowych w 2013 roku'),\n",
       " ('2014-01-28',\n",
       "  'fabryki mebli forte sa terminy przekazywania raportów okresowych w 2014 r.'),\n",
       " ('2015-01-28', 'fte terminy przekazywania raportów okresowych w 2015 r.'),\n",
       " ('2016-01-19',\n",
       "  'fte terminy przekazywania raportów okresowych przez fabryki mebli forte s.a. w 2016 roku'),\n",
       " ('2016-04-27',\n",
       "  'fte zmiana terminu publikacji raportu za i kwartał 2016 roku')]"
      ]
     },
     "execution_count": 14,
     "metadata": {},
     "output_type": "execute_result"
    }
   ],
   "source": [
    "[]"
   ]
  }
 ],
 "metadata": {
  "kernelspec": {
   "display_name": "Python 3",
   "language": "python",
   "name": "python3"
  },
  "language_info": {
   "codemirror_mode": {
    "name": "ipython",
    "version": 3
   },
   "file_extension": ".py",
   "mimetype": "text/x-python",
   "name": "python",
   "nbconvert_exporter": "python",
   "pygments_lexer": "ipython3",
   "version": "3.4.3"
  }
 },
 "nbformat": 4,
 "nbformat_minor": 0
}
